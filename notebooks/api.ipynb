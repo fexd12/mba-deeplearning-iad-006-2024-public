{
 "cells": [
  {
   "cell_type": "code",
   "execution_count": 77,
   "metadata": {},
   "outputs": [],
   "source": [
    "import requests\n",
    "import json\n",
    "import matplotlib.pyplot as plt\n",
    "from sklearn.datasets import load_digits\n",
    "import numpy as np"
   ]
  },
  {
   "cell_type": "code",
   "execution_count": 78,
   "metadata": {},
   "outputs": [],
   "source": [
    "def fazer_inferencia(url, dados_entrada):\n",
    "    dados_json = json.dumps({'input': dados_entrada.tolist()})\n",
    "\n",
    "    resposta = requests.post(url, data=dados_json, headers={'Content-Type': 'application/json'})\n",
    "    print(resposta.status_code)\n",
    "    if resposta.status_code != 200:\n",
    "        return {'error': 'Houve um erro na solicitação'}\n",
    "    \n",
    "    return resposta.json()"
   ]
  },
  {
   "cell_type": "code",
   "execution_count": 79,
   "metadata": {},
   "outputs": [
    {
     "name": "stdout",
     "output_type": "stream",
     "text": [
      "[INFO] Imagem aleatória do MNIST com label '2':\n"
     ]
    },
    {
     "data": {
      "image/png": "[encoded data removed]",
      "text/plain": [
       "<Figure size 640x480 with 1 Axes>"
      ]
     },
     "metadata": {},
     "output_type": "display_data"
    }
   ],
   "source": [
    "\n",
    "\n",
    "dataset = load_digits()\n",
    "(data, labels) = (dataset.data, dataset.target)\n",
    "\n",
    "# np.random.seed(42)\n",
    "randomIndex = np.random.randint(0, data.shape[0])\n",
    "print(\"[INFO] Imagem aleatória do MNIST com label '{:.0f}':\".format(labels[randomIndex]))\n",
    "plt.imshow(data[randomIndex].reshape((8,8)), cmap=\"Greys\")\n",
    "plt.show()"
   ]
  },
  {
   "cell_type": "code",
   "execution_count": 80,
   "metadata": {},
   "outputs": [
    {
     "name": "stdout",
     "output_type": "stream",
     "text": [
      "200\n"
     ]
    },
    {
     "data": {
      "text/plain": [
       "{'prediction': [2]}"
      ]
     },
     "execution_count": 80,
     "metadata": {},
     "output_type": "execute_result"
    }
   ],
   "source": [
    "url = 'http://localhost:8000/predict'\n",
    "fazer_inferencia(url, data[randomIndex])"
   ]
  }
 ],
 "metadata": {
  "kernelspec": {
   "display_name": "Python 3",
   "language": "python",
   "name": "python3"
  },
  "language_info": {
   "codemirror_mode": {
    "name": "ipython",
    "version": 3
   },
   "file_extension": ".py",
   "mimetype": "text/x-python",
   "name": "python",
   "nbconvert_exporter": "python",
   "pygments_lexer": "ipython3",
   "version": "3.11.3"
  }
 },
 "nbformat": 4,
 "nbformat_minor": 2
}
